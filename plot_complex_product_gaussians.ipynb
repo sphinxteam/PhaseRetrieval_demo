{
 "cells": [
  {
   "cell_type": "markdown",
   "metadata": {},
   "source": [
    "# Plots for the product of complex Gaussian matrices"
   ]
  },
  {
   "cell_type": "code",
   "execution_count": 1,
   "metadata": {},
   "outputs": [],
   "source": [
    "%matplotlib inline\n",
    "import numpy as np, matplotlib.pyplot as plt\n",
    "import time, pickle\n",
    "import logging\n",
    "logging.basicConfig(level=logging.INFO)"
   ]
  },
  {
   "cell_type": "code",
   "execution_count": 2,
   "metadata": {},
   "outputs": [],
   "source": [
    "gammas = [0.5, 1.0, 1.5]\n",
    "alphas_se = [None for gamma in gammas]\n",
    "mses_uninformed_x, mses_uninformed_z, mses_informed_z, mses_informed_x = [None for gamma in gammas], [None for gamma in gammas], [None for gamma in gammas], [None for gamma in gammas]\n",
    "alphas_gvamp = [None for gamma in gammas]\n",
    "mses_gvamp_mean_all_z, mses_gvamp_std_all_z, mses_gvamp_mean_all_x, mses_gvamp_std_all_x  = [None for gamma in gammas], [None for gamma in gammas], [None for gamma in gammas], [None for gamma in gammas]\n",
    "mses_gvamp_mean_converged_only_z, mses_gvamp_std_converged_only_z, mses_gvamp_mean_converged_only_x, mses_gvamp_std_converged_only_x  = [None for gamma in gammas], [None for gamma in gammas], [None for gamma in gammas], [None for gamma in gammas]"
   ]
  },
  {
   "cell_type": "code",
   "execution_count": 3,
   "metadata": {},
   "outputs": [],
   "source": [
    "#Loading SE data\n",
    "for (i_g,gamma) in enumerate(gammas):\n",
    "    if gamma != 1:\n",
    "        filename = \"Data/results_se_complex_product_gaussians_gamma_\"+str(gamma)+\".pkl\"\n",
    "        infile = open(filename,'rb')\n",
    "        results = pickle.load(infile)\n",
    "        infile.close()\n",
    "        alphas_se[i_g] = results['alphas']\n",
    "        mses_uninformed = results['mses_uninformed']\n",
    "        mses_informed = results['mses_informed']\n",
    "        mses_uninformed_x[i_g] = np.array([mse['x'] for mse in mses_uninformed])\n",
    "        mses_uninformed_z[i_g] = np.array([mse['z'] for mse in mses_uninformed])\n",
    "        mses_informed_x[i_g] = np.array([mse['x'] for mse in mses_informed])\n",
    "        mses_informed_z[i_g] = np.array([mse['z'] for mse in mses_informed])\n",
    "    else:\n",
    "        #We separate the case gamma = 1 which was generated in a slightly different way\n",
    "        alphas_se[i_g] = {'informed':None,'uninformed':None}\n",
    "        \n",
    "        filename = \"Data/results_se_complex_product_gaussians_gamma_\"+str(gamma)+\"_uninformed_only.pkl\"\n",
    "        infile = open(filename,'rb')\n",
    "        results = pickle.load(infile)\n",
    "        infile.close()\n",
    "        alphas_se[i_g]['uninformed'] = results['alphas']\n",
    "        mses_uninformed = results['mses_uninformed']\n",
    "        mses_uninformed_x[i_g] = np.array([mse['x'] for mse in mses_uninformed])\n",
    "        mses_uninformed_z[i_g] = np.array([mse['z'] for mse in mses_uninformed])\n",
    "\n",
    "        filename = \"Data/results_se_complex_product_gaussians_gamma_\"+str(gamma)+\"_informed_only.pkl\"\n",
    "        infile = open(filename,'rb')\n",
    "        results = pickle.load(infile)\n",
    "        infile.close()\n",
    "        alphas_se[i_g]['informed']  = results['alphas']\n",
    "        mses_informed = results['mses_informed']\n",
    "        mses_informed_x[i_g] = np.array([mse['x'] for mse in mses_informed])\n",
    "        mses_informed_z[i_g] = np.array([mse['z'] for mse in mses_informed])"
   ]
  },
  {
   "cell_type": "code",
   "execution_count": 4,
   "metadata": {},
   "outputs": [],
   "source": [
    "#Loading GVAMP data (once the runs are over)\n",
    "for (i_g,gamma) in enumerate(gammas):\n",
    "    filename = \"Data/results_gvamp_complex_product_gaussians_gamma\"+str(gamma)+\".pkl\"\n",
    "    infile = open(filename,'rb')\n",
    "    results = pickle.load(infile)\n",
    "    infile.close()\n",
    "\n",
    "    alphas_gvamp[i_g] = results['alphas']\n",
    "    mses_gvamp_mean_all_z[i_g] = results['mses_mean_all_z']\n",
    "    mses_gvamp_std_all_z[i_g] = results['mses_std_all_z']\n",
    "    mses_gvamp_mean_all_x[i_g] = results['mses_mean_all_x']/2.\n",
    "    mses_gvamp_std_all_x[i_g] = results['mses_std_all_x']/2.\n",
    "    mses_gvamp_mean_converged_only_z[i_g] = results['mses_mean_converged_only_z']\n",
    "    mses_gvamp_std_converged_only_z[i_g] = results['mses_std_converged_only_z']\n",
    "    mses_gvamp_mean_converged_only_x[i_g] = results['mses_mean_converged_only_x']/2.\n",
    "    mses_gvamp_std_converged_only_x[i_g] = results['mses_std_converged_only_x']/2."
   ]
  },
  {
   "cell_type": "code",
   "execution_count": 1,
   "metadata": {},
   "outputs": [
    {
     "ename": "NameError",
     "evalue": "name 'plt' is not defined",
     "output_type": "error",
     "traceback": [
      "\u001b[0;31m---------------------------------------------------------------------------\u001b[0m",
      "\u001b[0;31mNameError\u001b[0m                                 Traceback (most recent call last)",
      "\u001b[0;32m<ipython-input-1-fe6bd57e0945>\u001b[0m in \u001b[0;36m<module>\u001b[0;34m\u001b[0m\n\u001b[0;32m----> 1\u001b[0;31m \u001b[0mplt\u001b[0m\u001b[0;34m.\u001b[0m\u001b[0mrcParams\u001b[0m\u001b[0;34m.\u001b[0m\u001b[0mupdate\u001b[0m\u001b[0;34m(\u001b[0m\u001b[0;34m{\u001b[0m\u001b[0;34m'font.size'\u001b[0m\u001b[0;34m:\u001b[0m \u001b[0;36m12\u001b[0m\u001b[0;34m}\u001b[0m\u001b[0;34m)\u001b[0m\u001b[0;34m\u001b[0m\u001b[0;34m\u001b[0m\u001b[0m\n\u001b[0m\u001b[1;32m      2\u001b[0m \u001b[0mfig\u001b[0m\u001b[0;34m,\u001b[0m \u001b[0maxes\u001b[0m \u001b[0;34m=\u001b[0m \u001b[0mplt\u001b[0m\u001b[0;34m.\u001b[0m\u001b[0msubplots\u001b[0m\u001b[0;34m(\u001b[0m\u001b[0;36m1\u001b[0m\u001b[0;34m,\u001b[0m\u001b[0;36m3\u001b[0m\u001b[0;34m,\u001b[0m\u001b[0mfigsize\u001b[0m\u001b[0;34m=\u001b[0m\u001b[0;34m(\u001b[0m\u001b[0;36m18\u001b[0m\u001b[0;34m,\u001b[0m\u001b[0;36m5\u001b[0m\u001b[0;34m)\u001b[0m\u001b[0;34m,\u001b[0m\u001b[0msharey\u001b[0m\u001b[0;34m=\u001b[0m\u001b[0;32mTrue\u001b[0m\u001b[0;34m)\u001b[0m\u001b[0;34m\u001b[0m\u001b[0;34m\u001b[0m\u001b[0m\n\u001b[1;32m      3\u001b[0m \u001b[0mlimits_inf\u001b[0m \u001b[0;34m=\u001b[0m \u001b[0;34m[\u001b[0m\u001b[0;36m0.28\u001b[0m\u001b[0;34m,\u001b[0m\u001b[0;36m0.1\u001b[0m\u001b[0;34m,\u001b[0m\u001b[0;36m0.15\u001b[0m\u001b[0;34m]\u001b[0m\u001b[0;34m\u001b[0m\u001b[0;34m\u001b[0m\u001b[0m\n\u001b[1;32m      4\u001b[0m \u001b[0mlimits_sup\u001b[0m \u001b[0;34m=\u001b[0m \u001b[0;34m[\u001b[0m\u001b[0;36m2.5\u001b[0m\u001b[0;34m,\u001b[0m\u001b[0;36m2.5\u001b[0m\u001b[0;34m,\u001b[0m\u001b[0;36m1.6\u001b[0m\u001b[0;34m]\u001b[0m\u001b[0;34m\u001b[0m\u001b[0;34m\u001b[0m\u001b[0m\n\u001b[1;32m      5\u001b[0m \u001b[0;34m\u001b[0m\u001b[0m\n",
      "\u001b[0;31mNameError\u001b[0m: name 'plt' is not defined"
     ]
    }
   ],
   "source": [
    "plt.rcParams.update({'font.size': 12})\n",
    "fig, axes = plt.subplots(1,3,figsize=(18,5),sharey=True)\n",
    "limits_inf = [0.28,0.1,0.15]\n",
    "limits_sup = [2.5,2.5,1.6]\n",
    "\n",
    "for (i_g,gamma) in enumerate(gammas):\n",
    "    ax = axes[i_g]\n",
    "    ax.set_xlim(limits_inf[i_g], limits_sup[i_g])\n",
    "    ax.set_ylim(-0.05, 1.05)\n",
    "    ax.set_xlabel(r'$\\alpha/\\gamma$')\n",
    "    if i_g == 0:\n",
    "        ax.set_ylabel(r'Mean Squared Error')\n",
    "    ax.set_title(r'$\\gamma = $'+str(gamma))\n",
    "    alpha_WR = 1./(1.+gamma)\n",
    "    alpha_PR = min(2.,2./gamma)\n",
    "    ax.plot([alpha_WR,alpha_WR],[-0.5,1.5],linestyle='--',color='grey',zorder=0)\n",
    "    ax.plot([alpha_PR,alpha_PR],[-0.5,1.5],linestyle='--',color='cyan',zorder=0)\n",
    "    ax.plot([0.,3],[1.,1.],linestyle='--',color='black',zorder=0)\n",
    "    ax.plot([0.,3],[0.,0.],linestyle='--',color='black',zorder=0)\n",
    "\n",
    "    if gamma != 1:\n",
    "        ax.plot(alphas_se[i_g],mses_uninformed_z[i_g], label = r\"SE $(x)$\",zorder = 2, linewidth=3, color = 'blue')\n",
    "        ax.plot(alphas_se[i_g],mses_uninformed_x[i_g], label = \"SE $(\\Phi x/\\sqrt{n})$\",zorder = 2, linewidth=3, color = 'red')\n",
    "        ax.plot(alphas_se[i_g],mses_informed_z[i_g], label = r\"Informed SE $(x)$\",zorder = 3, linewidth=3, color = 'orange',linestyle='dotted')\n",
    "        ax.plot(alphas_se[i_g],mses_informed_x[i_g], label = r\"Informed SE $(\\Phi x/\\sqrt{n})$\",zorder = 3, linewidth=3, color = 'green',linestyle='dotted')\n",
    "    else: #We have to separate the gamma = 1 case\n",
    "        ax.plot(alphas_se[i_g]['uninformed'],mses_uninformed_z[i_g], label = r\"SE $(x)$\",zorder = 2, linewidth=3, color = 'blue')\n",
    "        ax.plot(alphas_se[i_g]['uninformed'],mses_uninformed_x[i_g], label = r\"SE $(\\Phi x/\\sqrt{n})$\",zorder = 2, linewidth=3, color = 'red')\n",
    "        ax.plot(alphas_se[i_g]['informed'],mses_informed_z[i_g], label = r\"Informed SE $(x)$\",zorder = 3, linewidth=3, color = 'orange',linestyle='dotted')\n",
    "        ax.plot(alphas_se[i_g]['informed'],mses_informed_x[i_g], label = r\"Informed SE $(\\Phi x/\\sqrt{n})$\",zorder = 3, linewidth=3, color = 'green',linestyle='dotted')\n",
    "    \n",
    "    if alphas_gvamp[i_g] != [] and not(alphas_gvamp[i_g] is None):\n",
    "        ax.errorbar(alphas_gvamp[i_g], mses_gvamp_mean_all_z[i_g], yerr = mses_gvamp_std_all_z[i_g], label = r\"G-VAMP $(x)$\", zorder = 4, fmt='o', markersize=7,capsize = 2, color = 'black')\n",
    "        ax.errorbar(alphas_gvamp[i_g], mses_gvamp_mean_all_x[i_g], yerr = mses_gvamp_std_all_x[i_g], label = r\"G-VAMP $(\\Phi x/\\sqrt{n})$\", zorder = 4, fmt='o', markersize=7,capsize = 2, color = 'purple')\n",
    "#We shrink the axis and add the legend below\n",
    "for ax in axes:\n",
    "    # Shrink current axis's height by 10% on the bottom\n",
    "    box = ax.get_position()\n",
    "    ax.set_position([box.x0, box.y0 + box.height * 0.1,\n",
    "                     box.width, box.height * 0.9])\n",
    "\n",
    "axes[0].legend(loc='upper center', bbox_to_anchor=(1.63, -0.13),\n",
    "          ncol=6, fancybox=True, shadow=True)\n",
    "plt.subplots_adjust(bottom=0.15, wspace=0.05)\n",
    "plt.savefig(\"mse_complex_product_gaussians.pdf\",bbox_inches = 'tight')"
   ]
  },
  {
   "cell_type": "code",
   "execution_count": null,
   "metadata": {},
   "outputs": [],
   "source": []
  }
 ],
 "metadata": {
  "kernelspec": {
   "display_name": "Python 3",
   "language": "python",
   "name": "python3"
  },
  "language_info": {
   "codemirror_mode": {
    "name": "ipython",
    "version": 3
   },
   "file_extension": ".py",
   "mimetype": "text/x-python",
   "name": "python",
   "nbconvert_exporter": "python",
   "pygments_lexer": "ipython3",
   "version": "3.6.9"
  }
 },
 "nbformat": 4,
 "nbformat_minor": 4
}
