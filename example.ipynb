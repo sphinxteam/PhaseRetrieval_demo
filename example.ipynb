{
 "cells": [
  {
   "cell_type": "markdown",
   "metadata": {},
   "source": [
    "# Running G-VAMP and the State Evolution equations for complex Gaussian matrices.\n",
    "\n",
    "This is based on the TrAMP package"
   ]
  },
  {
   "cell_type": "code",
   "execution_count": 1,
   "metadata": {},
   "outputs": [],
   "source": [
    "%matplotlib inline\n",
    "import numpy as np, matplotlib.pyplot as plt\n",
    "import time, pickle\n",
    "import logging\n",
    "logging.basicConfig(level=logging.INFO)"
   ]
  },
  {
   "cell_type": "code",
   "execution_count": 2,
   "metadata": {},
   "outputs": [
    {
     "name": "stderr",
     "output_type": "stream",
     "text": [
      "INFO:root:Generating grammar tables from /usr/lib/python3.6/lib2to3/Grammar.txt\n",
      "INFO:root:Generating grammar tables from /usr/lib/python3.6/lib2to3/PatternGrammar.txt\n"
     ]
    }
   ],
   "source": [
    "#Loading the necessary packages from TrAMP\n",
    "from tramp.algos import StateEvolution, LogProgress, JoinCallback, NoisyInit, ConstantInit, EarlyStopping, CustomInit\n",
    "from tramp.priors import GaussianPrior\n",
    "from tramp.variables import (\n",
    "    SISOVariable as V, SIMOVariable, MISOVariable, SILeafVariable as O, MILeafVariable\n",
    ")\n",
    "from tramp.likelihoods import ModulusLikelihood\n",
    "\n",
    "#Some customized classes\n",
    "from Custom_Class.Custom_Channels import ComplexMarchenkoPasturChannel\n",
    "from Custom_Class.Custom_Callbacks import EarlyStopping_Custom"
   ]
  },
  {
   "cell_type": "code",
   "execution_count": 3,
   "metadata": {},
   "outputs": [],
   "source": [
    "def mse(alpha, N = 5000, max_iter = 1000):\n",
    "    \"\"\"\n",
    "    Computes the MSE of State Evolution and of EP/GVAMP using the TrAMP package.\n",
    "    The State Evolution equations are run from the particular finite-size instance\n",
    "    \"\"\" \n",
    "    #Building the priors (with a shape (2,N) because we have complex variables)\n",
    "    prior_z_student = GaussianPrior(size=(2, N), mean=5e-3 ) #We add a small mean in the prior to break the symmetry, but not to generate the data !\n",
    "    prior_z_teacher = GaussianPrior(size=(2, N), mean=0.)\n",
    "\n",
    "    #Building the sensing matrix A from ComplexGaussian ensemble\n",
    "    M = int(alpha * N)\n",
    "    A = ComplexGaussianEnsemble(M,N).generate() \n",
    "    \n",
    "    #Building the teacher and student models\n",
    "    model_teacher = prior_z_teacher @ V(id=\"z\") @ ComplexLinearChannel(A, name=\"A\") @ V(id=\"Az\") @ ModulusChannel() @ O(id=\"y\")\n",
    "    model_student = prior_z_student @ V(id=\"z\") @ ComplexLinearChannel(A, name=\"A\") @ V(id=\"Az\") @ ModulusChannel() @ O(id=\"y\")\n",
    "    teacher = model_teacher.to_model()\n",
    "    student = model_student.to_model()\n",
    "\n",
    "    #Running EP/GVAMP\n",
    "    scenario = TeacherStudentScenario(teacher=teacher, student=student, x_ids=[\"z\"])\n",
    "    scenario.setup()\n",
    "    records_ep = scenario.run_ep(max_iter=max_iter)\n",
    "    \n",
    "    #Building and running the state evolution (with the numerical instance of the sensing matrix)\n",
    "    se = StateEvolution(student)\n",
    "    se.iterate(max_iter=max_iter, initializer=None) #We can also change to an informed initialization using initializer\n",
    "    records_se = se.get_variables_data('z')\n",
    "    \n",
    "    return records_ep, records_se"
   ]
  },
  {
   "cell_type": "code",
   "execution_count": 4,
   "metadata": {},
   "outputs": [],
   "source": [
    "def mse_se_analytical(alpha, informed = False, verbosity = 0):\n",
    "    \"\"\"\n",
    "    Computes the MSE of State Evolution for complex Gaussian matrices using the TrAMP package.\n",
    "    The State Evolution equations are run on the analytic limit spectral density.\n",
    "    \"\"\" \n",
    "    tol = 1e-7\n",
    "    mean = 0.\n",
    "    damping = 0.3 \n",
    "    if not(informed): #We add a small mean for the uninformed case, to break the symmetry\n",
    "        mean = 5e-3 \n",
    "    size = (2,None) #Since we have an analytical channel, size = None in the real case, (2,None) in the complex case\n",
    "    \n",
    "    #Building the model\n",
    "    prior_z = GaussianPrior(size=size,mean=mean)\n",
    "    output = ModulusLikelihood(y=None, y_name=\"y\")\n",
    "    model = prior_z @ V(id=\"z\") @ ComplexMarchenkoPasturChannel(alpha=alpha, name=\"A\") @ V(id=\"Az\") @ output #build model\n",
    "    model = model.to_model()\n",
    "    se = StateEvolution(model)\n",
    "    \n",
    "    #Uninformed and informed initializations\n",
    "    if not(informed):\n",
    "        callback = EarlyStopping(tol=tol, min_variance=1e-12, max_increase = 0.5)\n",
    "        a0 = 0.\n",
    "    if informed:\n",
    "        #We take at least 100 iterations to make sure we do not have a fake convergence\n",
    "        callback = EarlyStopping_Custom(tol=tol, min_variance=1e-12, max_increase = 0.5, min_iterations = 100)\n",
    "        a0 = 1e3\n",
    "\n",
    "    #Running the State Evolution\n",
    "    a_init = [(\"z\", \"bwd\", a0),(\"Az\",\"bwd\",a0)]\n",
    "    if verbosity >= 1:\n",
    "            callback  = JoinCallback([callback,LogProgress(ids = \"all\", every = 50)])\n",
    "    initializer = CustomInit(a_init=a_init)\n",
    "    se.iterate(max_iter = 5000, callback=callback, initializer=initializer,damping=damping)\n",
    "        \n",
    "    records = se.get_variables_data('z')\n",
    "    return records"
   ]
  },
  {
   "cell_type": "code",
   "execution_count": 12,
   "metadata": {},
   "outputs": [
    {
     "name": "stderr",
     "output_type": "stream",
     "text": [
      "INFO:tramp.algos.message_passing:init message dag with CustomInit(a_init={'z': {'bwd': 1000.0}, 'Az': {'bwd': 1000.0}},b_init={},a=0,b=0)\n",
      "INFO:tramp.algos.message_passing:f_0->z damping=0.3\n",
      "INFO:tramp.algos.message_passing:f_1->Az damping=0.3\n",
      "INFO:tramp.algos.message_passing:z<-f_1 damping=0.3\n",
      "INFO:tramp.algos.message_passing:Az<-f_2 damping=0.3\n",
      "INFO:tramp.algos.callbacks:iteration=1/5000\n",
      "INFO:tramp.algos.callbacks:id=z v=0.001\n",
      "INFO:tramp.algos.callbacks:id=Az v=0.001\n",
      "INFO:tramp.algos.callbacks:iteration=51/5000\n",
      "INFO:tramp.algos.callbacks:id=z v=0.001\n",
      "INFO:tramp.algos.callbacks:id=Az v=0.001\n",
      "INFO:tramp.algos.callbacks:iteration=101/5000\n",
      "INFO:tramp.algos.callbacks:id=z v=0.001\n",
      "INFO:tramp.algos.callbacks:id=Az v=0.000\n",
      "INFO:tramp.algos.callbacks:iteration=151/5000\n",
      "INFO:tramp.algos.callbacks:id=z v=0.001\n",
      "INFO:tramp.algos.callbacks:id=Az v=0.000\n",
      "INFO:tramp.algos.callbacks:iteration=201/5000\n",
      "INFO:tramp.algos.callbacks:id=z v=0.001\n",
      "INFO:tramp.algos.callbacks:id=Az v=0.000\n",
      "INFO:tramp.algos.callbacks:iteration=251/5000\n",
      "INFO:tramp.algos.callbacks:id=z v=0.000\n",
      "INFO:tramp.algos.callbacks:id=Az v=0.000\n",
      "INFO:tramp.algos.callbacks:iteration=301/5000\n",
      "INFO:tramp.algos.callbacks:id=z v=0.000\n",
      "INFO:tramp.algos.callbacks:id=Az v=0.000\n",
      "INFO:tramp.algos.callbacks:iteration=351/5000\n",
      "INFO:tramp.algos.callbacks:id=z v=0.000\n",
      "INFO:tramp.algos.callbacks:id=Az v=0.000\n",
      "INFO:tramp.algos.callbacks:iteration=401/5000\n",
      "INFO:tramp.algos.callbacks:id=z v=0.000\n",
      "INFO:tramp.algos.callbacks:id=Az v=0.000\n",
      "INFO:tramp.algos.callbacks:iteration=451/5000\n",
      "INFO:tramp.algos.callbacks:id=z v=0.000\n",
      "INFO:tramp.algos.callbacks:id=Az v=0.000\n",
      "INFO:tramp.algos.callbacks:iteration=501/5000\n",
      "INFO:tramp.algos.callbacks:id=z v=0.000\n",
      "INFO:tramp.algos.callbacks:id=Az v=0.000\n",
      "INFO:tramp.algos.callbacks:iteration=551/5000\n",
      "INFO:tramp.algos.callbacks:id=z v=0.000\n",
      "INFO:tramp.algos.callbacks:id=Az v=0.000\n",
      "INFO:tramp.algos.callbacks:iteration=601/5000\n",
      "INFO:tramp.algos.callbacks:id=z v=0.000\n",
      "INFO:tramp.algos.callbacks:id=Az v=0.000\n",
      "INFO:tramp.algos.callbacks:iteration=651/5000\n",
      "INFO:tramp.algos.callbacks:id=z v=0.000\n",
      "INFO:tramp.algos.callbacks:id=Az v=0.000\n",
      "INFO:tramp.algos.callbacks:iteration=701/5000\n",
      "INFO:tramp.algos.callbacks:id=z v=0.000\n",
      "INFO:tramp.algos.callbacks:id=Az v=0.000\n",
      "INFO:tramp.algos.callbacks:iteration=751/5000\n",
      "INFO:tramp.algos.callbacks:id=z v=0.000\n",
      "INFO:tramp.algos.callbacks:id=Az v=0.000\n",
      "INFO:tramp.algos.callbacks:iteration=801/5000\n",
      "INFO:tramp.algos.callbacks:id=z v=0.000\n",
      "INFO:tramp.algos.callbacks:id=Az v=0.000\n",
      "INFO:tramp.algos.callbacks:iteration=851/5000\n",
      "INFO:tramp.algos.callbacks:id=z v=0.000\n",
      "INFO:tramp.algos.callbacks:id=Az v=0.000\n",
      "INFO:Custom_Class.Custom_Callbacks:early stopping all tolerances (on v) are below tol=1.00e-07\n",
      "INFO:tramp.algos.message_passing:terminated after n_iter=867 iterations\n"
     ]
    },
    {
     "data": {
      "text/plain": [
       "{'z': {'tau': 1.0, 'v': 1.868114070915137e-05}}"
      ]
     },
     "execution_count": 12,
     "metadata": {},
     "output_type": "execute_result"
    }
   ],
   "source": [
    "#An example point, just after the full recovery transition, with an informed initialization.\n",
    "mse_se_analytical(alpha=2.01, informed = True, verbosity=1)"
   ]
  },
  {
   "cell_type": "code",
   "execution_count": 13,
   "metadata": {},
   "outputs": [],
   "source": [
    "#A plot using the data from the files run_se_complex_gaussian and run_gvamp_complex_gaussian.\n",
    "def plot_se_vs_ep():\n",
    "    \n",
    "    #Loading the data\n",
    "    #Analytical State Evolution data\n",
    "    filename = \"Data/results_se_complex_gaussian.pkl\"\n",
    "    infile = open(filename,'rb')\n",
    "    results = pickle.load(infile)\n",
    "    infile.close()\n",
    "    alphas_se = {'informed':results['alphas_informed'],'uninformed':results['alphas_uninformed']}\n",
    "    mses_uninformed = results['mses_uninformed']\n",
    "    mses_informed = results['mses_informed']\n",
    "\n",
    "    #Loading GVAMP data\n",
    "    filename = \"Data/results_gvamp_complex_gaussian.pkl\"\n",
    "    infile = open(filename,'rb')\n",
    "    results = pickle.load(infile)\n",
    "    infile.close()\n",
    "    alphas_gvamp = results['alphas']\n",
    "    mses_gvamp = {'all':{'mean':results['mses_gvamp_mean_all'],'std':results['mses_gvamp_std_all']},'cv_only':{'mean':results['mses_gvamp_mean_cv_only'],'std':results['mses_gvamp_std_cv_only']}}\n",
    "    \n",
    "    plt.rcParams.update({'font.size': 12})\n",
    "    golden = (1+np.sqrt(5.))/2\n",
    "    width = 17\n",
    "    fig, ax = plt.subplots(figsize=(width,width/(1+golden)))\n",
    "    ax.set_ylim(-0.05, 1.05)\n",
    "    ax.set_xlabel(r'$\\alpha$')\n",
    "    ax.set_ylabel(r'MSE')\n",
    "    ax.set_title(r'Complex Gaussian matrices')\n",
    "\n",
    "    ax.plot([1.,1.],[-0.5,1.5],linestyle='--',color='red',zorder=0)\n",
    "    ax.plot([0.,3],[1.,1.],linestyle='--',color='black',zorder=0)\n",
    "    ax.plot([0.,3],[0.,0.],linestyle='--',color='black',zorder=0)\n",
    "\n",
    "    ax.plot(alphas_se['uninformed'],mses_uninformed, label = \"State Evolution (Uninformed solution)\",zorder = 2, linewidth=3)\n",
    "    ax.plot(alphas_se['informed'],mses_informed, label = \"State Evolution (Informed solution)\",linewidth=3, zorder = 1, color = 'orange')\n",
    "    eb = ax.errorbar(alphas_gvamp, mses_gvamp['all']['mean'], yerr =  mses_gvamp['all']['std'], label = \"GAMP/EP\", zorder = 4, color = 'red', fmt='o', markersize=5,capsize = 2)\n",
    "    eb[-1][0].set_linestyle('--')\n",
    "\n",
    "    ax.legend(fancybox=True, loc='lower left')\n",
    "    ax.set_xlim(0.4,2.3)"
   ]
  },
  {
   "cell_type": "code",
   "execution_count": 14,
   "metadata": {},
   "outputs": [
    {
     "data": {
      "image/png": "[encoded data removed]",
      "text/plain": [
       "<Figure size 1224x467.526 with 1 Axes>"
      ]
     },
     "metadata": {
      "needs_background": "light"
     },
     "output_type": "display_data"
    }
   ],
   "source": [
    "plot_se_vs_ep()"
   ]
  },
  {
   "cell_type": "code",
   "execution_count": null,
   "metadata": {},
   "outputs": [],
   "source": []
  }
 ],
 "metadata": {
  "kernelspec": {
   "display_name": "Python 3",
   "language": "python",
   "name": "python3"
  },
  "language_info": {
   "codemirror_mode": {
    "name": "ipython",
    "version": 3
   },
   "file_extension": ".py",
   "mimetype": "text/x-python",
   "name": "python",
   "nbconvert_exporter": "python",
   "pygments_lexer": "ipython3",
   "version": "3.6.9"
  }
 },
 "nbformat": 4,
 "nbformat_minor": 4
}
